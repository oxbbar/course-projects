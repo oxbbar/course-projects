{
 "cells": [
  {
   "cell_type": "markdown",
   "id": "e8faacab-d55f-4f1d-aaa2-beaacc7b8e2a",
   "metadata": {},
   "source": [
    "# Finding Heavy Traffic Indicators on I-94"
   ]
  },
  {
   "cell_type": "markdown",
   "id": "15a1a5e9-88bc-4883-8c32-de297573eb06",
   "metadata": {},
   "source": [
    "## Description of the Project"
   ]
  },
  {
   "cell_type": "markdown",
   "id": "3333f9cb-c640-4570-94fb-e3c2790d1f31",
   "metadata": {},
   "source": [
    "Interstate I-94 (I-94) is an east-west interstate highway connecting the Great Lakes and northern Great Plains regions in the United States. We're going to analyse westbound traffic on I-94  recorded by a station located approximately midway between Minneapolis and Saint Paul. \n",
    "\n",
    "Results, then, are relevant only to westbound traffing around the area of the station. Extrapolations should not be made that suggest trends across the entire interstate.\n",
    "\n",
    "The dataset to be used for this analysis was made available on the [UCI Machine Learning Repository](https://archive.ics.uci.edu/ml/datasets/Metro+Interstate+Traffic+Volume) by John Hogue under the [CC BY 4.0](https://creativecommons.org/licenses/by/4.0/legalcode) license."
   ]
  },
  {
   "cell_type": "markdown",
   "id": "3830c5e8-c3ca-4516-bfcc-e6af1dce27e2",
   "metadata": {},
   "source": [
    "## Project Goal"
   ]
  },
  {
   "cell_type": "markdown",
   "id": "95352967-a173-466a-a743-fd7bfae76d6a",
   "metadata": {},
   "source": [
    "The aim of this project is to determine a few key indicators of heavy traffic on I-94. These indicators can be weather type, time of the day, time of the week, etc. For instance, we may find out that the traffic is usually heavier in the summer or when it snows."
   ]
  },
  {
   "cell_type": "markdown",
   "id": "6d4021af",
   "metadata": {},
   "source": [
    "## Variable Descriptors"
   ]
  },
  {
   "cell_type": "markdown",
   "id": "ee8f1c6d",
   "metadata": {},
   "source": [
    "The [Additional Variable Information](https://archive.ics.uci.edu/dataset/492/metro+interstate+traffic+volume) states the following:\n",
    "- ```holiday``` - Categorical - US National holidays plus regional holiday, Minnesota State Fair\n",
    "- ```temp``` - Numeric - Average temp in kelvin\n",
    "- ```rain_1h``` - Numeric - Amount in mm of rain that occurred in the hour\n",
    "- ```snow_1h``` - Numeric - Amount in mm of snow that occurred in the hour\n",
    "- ```clouds_all``` - Numeric - Percentage of cloud cover\n",
    "- ```weather_main``` - Categorical - Short textual description of the current weather\n",
    "- ```weather_description``` - Categorical - Longer textual description of the current weather\n",
    "- ```date_time``` - DateTime - Hour of the data collected in local CST time\n",
    "- ```traffic_volume``` - Numeric - Hourly I-94 ATR 301 reported westbound traffic volume"
   ]
  },
  {
   "cell_type": "markdown",
   "id": "9b560f42-d052-42cd-9cd5-32416dfda472",
   "metadata": {},
   "source": [
    "## Processing and Analysing"
   ]
  },
  {
   "cell_type": "markdown",
   "id": "1af57d2b",
   "metadata": {},
   "source": [
    "Importing pandas and matplotlib:"
   ]
  },
  {
   "cell_type": "code",
   "execution_count": 1,
   "id": "019d0838",
   "metadata": {},
   "outputs": [],
   "source": [
    "import pandas as pd\n",
    "import matplotlib.pyplot as plt"
   ]
  },
  {
   "cell_type": "markdown",
   "id": "a28e3b94-7803-482f-9da7-813853f12370",
   "metadata": {},
   "source": [
    "Importing the CSV and finding out about the dataset:"
   ]
  },
  {
   "cell_type": "code",
   "execution_count": 2,
   "id": "737f1e7f",
   "metadata": {
    "scrolled": true
   },
   "outputs": [
    {
     "name": "stdout",
     "output_type": "stream",
     "text": [
      "<class 'pandas.core.frame.DataFrame'>\n",
      "RangeIndex: 48204 entries, 0 to 48203\n",
      "Data columns (total 9 columns):\n",
      " #   Column               Non-Null Count  Dtype  \n",
      "---  ------               --------------  -----  \n",
      " 0   holiday              61 non-null     object \n",
      " 1   temp                 48204 non-null  float64\n",
      " 2   rain_1h              48204 non-null  float64\n",
      " 3   snow_1h              48204 non-null  float64\n",
      " 4   clouds_all           48204 non-null  int64  \n",
      " 5   weather_main         48204 non-null  object \n",
      " 6   weather_description  48204 non-null  object \n",
      " 7   date_time            48204 non-null  object \n",
      " 8   traffic_volume       48204 non-null  int64  \n",
      "dtypes: float64(3), int64(2), object(4)\n",
      "memory usage: 3.3+ MB\n",
      "\n",
      "\n",
      "  holiday    temp  rain_1h  snow_1h  clouds_all weather_main  \\\n",
      "0     NaN  288.28      0.0      0.0          40       Clouds   \n",
      "1     NaN  289.36      0.0      0.0          75       Clouds   \n",
      "2     NaN  289.58      0.0      0.0          90       Clouds   \n",
      "3     NaN  290.13      0.0      0.0          90       Clouds   \n",
      "4     NaN  291.14      0.0      0.0          75       Clouds   \n",
      "\n",
      "  weather_description            date_time  traffic_volume  \n",
      "0    scattered clouds  2012-10-02 09:00:00            5545  \n",
      "1       broken clouds  2012-10-02 10:00:00            4516  \n",
      "2     overcast clouds  2012-10-02 11:00:00            4767  \n",
      "3     overcast clouds  2012-10-02 12:00:00            5026  \n",
      "4       broken clouds  2012-10-02 13:00:00            4918  \n"
     ]
    }
   ],
   "source": [
    "traffic = pd.read_csv(\"Metro_Interstate_Traffic_Volume.csv\")\n",
    "traffic.info()\n",
    "print(\"\\n\")\n",
    "print(traffic.head())"
   ]
  },
  {
   "cell_type": "markdown",
   "id": "4f5a8fac",
   "metadata": {},
   "source": [
    "We can see the following information:\n",
    "- There are 9 columns of different attributes.\n",
    "- There are 48204 rows/entries/observations.\n",
    "- The columns names use the preferred snakecase for Python.\n",
    "- There are null values in the ```holiday``` column.\n",
    "- Columns referring to dates are not in a datetime format."
   ]
  },
  {
   "cell_type": "markdown",
   "id": "75220043",
   "metadata": {},
   "source": [
    "Looking at the earliest and latest recordings:"
   ]
  },
  {
   "cell_type": "code",
   "execution_count": 3,
   "id": "ddaaa045",
   "metadata": {},
   "outputs": [
    {
     "name": "stdout",
     "output_type": "stream",
     "text": [
      "0        2012-10-02 09:00:00\n",
      "1        2012-10-02 10:00:00\n",
      "2        2012-10-02 11:00:00\n",
      "3        2012-10-02 12:00:00\n",
      "4        2012-10-02 13:00:00\n",
      "                ...         \n",
      "48199    2018-09-30 19:00:00\n",
      "48200    2018-09-30 20:00:00\n",
      "48201    2018-09-30 21:00:00\n",
      "48202    2018-09-30 22:00:00\n",
      "48203    2018-09-30 23:00:00\n",
      "Name: date_time, Length: 48204, dtype: object\n"
     ]
    }
   ],
   "source": [
    "print(traffic[\"date_time\"].sort_values(ascending=True))"
   ]
  },
  {
   "cell_type": "markdown",
   "id": "99274951",
   "metadata": {},
   "source": [
    "The dataset ranges from 9:00 am on October 2nd, 2012 until 11:00 pm on September 30th, 2018."
   ]
  },
  {
   "cell_type": "code",
   "execution_count": 4,
   "id": "8b7cad55",
   "metadata": {
    "scrolled": true
   },
   "outputs": [
    {
     "data": {
      "text/plain": [
       "count    48204.000000\n",
       "mean      3259.818355\n",
       "std       1986.860670\n",
       "min          0.000000\n",
       "25%       1193.000000\n",
       "50%       3380.000000\n",
       "75%       4933.000000\n",
       "max       7280.000000\n",
       "Name: traffic_volume, dtype: float64"
      ]
     },
     "execution_count": 4,
     "metadata": {},
     "output_type": "execute_result"
    }
   ],
   "source": [
    "traffic[\"traffic_volume\"].describe()"
   ]
  },
  {
   "cell_type": "markdown",
   "id": "1285cd73",
   "metadata": {},
   "source": [
    "The average volume of traffic per hour is 3259."
   ]
  },
  {
   "cell_type": "markdown",
   "id": "75fc1b67",
   "metadata": {},
   "source": [
    "Creating a histogram to visualise the frequency of hourly traffic volume."
   ]
  },
  {
   "cell_type": "code",
   "execution_count": 5,
   "id": "09bcddb7",
   "metadata": {},
   "outputs": [
    {
     "data": {
      "image/png": "[encoded data removed]",
      "text/plain": [
       "<Figure size 640x480 with 1 Axes>"
      ]
     },
     "metadata": {},
     "output_type": "display_data"
    }
   ],
   "source": [
    "plt.hist(traffic[\"traffic_volume\"], bins=100, ec=\"black\")\n",
    "plt.title(\"Hourly Traffic Volume\")\n",
    "plt.xlabel(\"Traffic Volume\")\n",
    "plt.ylabel(\"Frequency\")\n",
    "plt.show()"
   ]
  },
  {
   "cell_type": "markdown",
   "id": "ba6880e8",
   "metadata": {},
   "source": [
    "Most frequently, the hourly volume is less than 500. However, the hourly volume data is multimodal, with peaks around 2900 and 4700. The first assumption might be that these peaks are based on the time of day."
   ]
  },
  {
   "cell_type": "markdown",
   "id": "1e25922f",
   "metadata": {},
   "source": [
    "We will split the data into two parts:\n",
    "- Daytime data (7:00 am until 7:00 pm)\n",
    "- Nighttime data (7:00 pm until 7:00 am)"
   ]
  },
  {
   "cell_type": "markdown",
   "id": "5a4babc4",
   "metadata": {},
   "source": [
    "Convering the date_time column to a datetime format:"
   ]
  },
  {
   "cell_type": "code",
   "execution_count": 11,
   "id": "7dfe2d1d",
   "metadata": {},
   "outputs": [
    {
     "name": "stdout",
     "output_type": "stream",
     "text": [
      "<class 'pandas.core.series.Series'>\n",
      "RangeIndex: 48204 entries, 0 to 48203\n",
      "Series name: date_time\n",
      "Non-Null Count  Dtype         \n",
      "--------------  -----         \n",
      "48204 non-null  datetime64[ns]\n",
      "dtypes: datetime64[ns](1)\n",
      "memory usage: 376.7 KB\n"
     ]
    }
   ],
   "source": [
    "traffic[\"date_time\"] = pd.to_datetime(traffic[\"date_time\"])\n",
    "\n",
    "traffic[\"date_time\"].info()"
   ]
  },
  {
   "cell_type": "markdown",
   "id": "bfc8855d",
   "metadata": {},
   "source": [
    "Create a column with a numeric hour:"
   ]
  },
  {
   "cell_type": "code",
   "execution_count": 14,
   "id": "9cfd84ed",
   "metadata": {},
   "outputs": [
    {
     "name": "stdout",
     "output_type": "stream",
     "text": [
      "<class 'pandas.core.series.Series'>\n",
      "RangeIndex: 48204 entries, 0 to 48203\n",
      "Series name: hour\n",
      "Non-Null Count  Dtype\n",
      "--------------  -----\n",
      "48204 non-null  int32\n",
      "dtypes: int32(1)\n",
      "memory usage: 188.4 KB\n"
     ]
    }
   ],
   "source": [
    "traffic[\"hour\"] = traffic[\"date_time\"].dt.hour\n",
    "traffic[\"hour\"].info()"
   ]
  },
  {
   "cell_type": "markdown",
   "id": "e86e8ce1",
   "metadata": {},
   "source": [
    "Creating a \"day_or_night\" column, and assigning valued based on boolean indexing:"
   ]
  },
  {
   "cell_type": "code",
   "execution_count": 74,
   "id": "2ac9b5c4",
   "metadata": {},
   "outputs": [],
   "source": [
    "day_hours = [7,8,9,10,11,12,13,14,15,16,17,18]\n",
    "night_hours = [19,20,21,22,23,0,1,2,3,4,5,6]\n",
    "\n",
    "traffic.loc[traffic[\"hour\"].isin(day_hours),\"day_or_night\"] = \"day\"\n",
    "traffic.loc[traffic[\"hour\"].isin(night_hours),\"day_or_night\"] = \"night\""
   ]
  },
  {
   "cell_type": "markdown",
   "id": "debd36f2",
   "metadata": {},
   "source": [
    "Seeing counts of day/night data:"
   ]
  },
  {
   "cell_type": "code",
   "execution_count": 76,
   "id": "72d40484",
   "metadata": {},
   "outputs": [
    {
     "name": "stdout",
     "output_type": "stream",
     "text": [
      "day_or_night\n",
      "night    24327\n",
      "day      23877\n",
      "Name: count, dtype: int64\n"
     ]
    }
   ],
   "source": [
    "print(traffic[\"day_or_night\"].value_counts())"
   ]
  },
  {
   "cell_type": "markdown",
   "id": "495962f2",
   "metadata": {},
   "source": [
    "Creating histograms of day/night data:"
   ]
  },
  {
   "cell_type": "code",
   "execution_count": 114,
   "id": "0f906052",
   "metadata": {},
   "outputs": [
    {
     "data": {
      "image/png": "[encoded data removed]",
      "text/plain": [
       "<Figure size 640x480 with 2 Axes>"
      ]
     },
     "metadata": {},
     "output_type": "display_data"
    }
   ],
   "source": [
    "plt.subplot(1,2,1)\n",
    "plt.hist(traffic.loc[traffic[\"day_or_night\"] == \"day\",\"traffic_volume\"], bins=20, ec=\"black\")\n",
    "plt.title(\"Hourly Traffic Volume Between \\n 7:00AM and 7:00PM\")\n",
    "plt.xlabel(\"Traffic Volume\")\n",
    "plt.ylabel(\"Frequency\")\n",
    "plt.ylim([0,6000])\n",
    "\n",
    "plt.subplot(1,2,2)\n",
    "plt.hist(traffic.loc[traffic[\"day_or_night\"] == \"night\",\"traffic_volume\"], bins=20, ec=\"black\")\n",
    "plt.title(\"Hourly Traffic Volume Between \\n 7:00PM and 7:00AM\")\n",
    "plt.xlabel(\"Traffic Volume\")\n",
    "plt.ylabel(\"Frequency\")\n",
    "plt.ylim([0,6000])\n",
    "\n",
    "plt.tight_layout()\n",
    "plt.show()"
   ]
  },
  {
   "cell_type": "markdown",
   "id": "914e2d7e",
   "metadata": {},
   "source": [
    "Looking at statistics for the day and night datasets:"
   ]
  },
  {
   "cell_type": "code",
   "execution_count": 120,
   "id": "a0ab1d7c",
   "metadata": {},
   "outputs": [
    {
     "data": {
      "text/plain": [
       "count    23877.000000\n",
       "mean      4762.047452\n",
       "std       1174.546482\n",
       "min          0.000000\n",
       "25%       4252.000000\n",
       "50%       4820.000000\n",
       "75%       5559.000000\n",
       "max       7280.000000\n",
       "Name: traffic_volume, dtype: float64"
      ]
     },
     "execution_count": 120,
     "metadata": {},
     "output_type": "execute_result"
    }
   ],
   "source": [
    "traffic[\"traffic_volume\"][traffic[\"day_or_night\"] == \"day\"].describe()"
   ]
  },
  {
   "cell_type": "code",
   "execution_count": 121,
   "id": "7d5b41ae",
   "metadata": {
    "scrolled": true
   },
   "outputs": [
    {
     "data": {
      "text/plain": [
       "count    24327.000000\n",
       "mean      1785.377441\n",
       "std       1441.951197\n",
       "min          0.000000\n",
       "25%        530.000000\n",
       "50%       1287.000000\n",
       "75%       2819.000000\n",
       "max       6386.000000\n",
       "Name: traffic_volume, dtype: float64"
      ]
     },
     "execution_count": 121,
     "metadata": {},
     "output_type": "execute_result"
    }
   ],
   "source": [
    "traffic[\"traffic_volume\"][traffic[\"day_or_night\"] == \"night\"].describe()"
   ]
  },
  {
   "cell_type": "markdown",
   "id": "76c9d36a",
   "metadata": {},
   "source": []
  },
  {
   "cell_type": "markdown",
   "id": "8f669f06",
   "metadata": {},
   "source": []
  },
  {
   "cell_type": "markdown",
   "id": "8e1f0b1f",
   "metadata": {},
   "source": []
  },
  {
   "cell_type": "markdown",
   "id": "34776b1e",
   "metadata": {},
   "source": []
  },
  {
   "cell_type": "code",
   "execution_count": null,
   "id": "10b202b6",
   "metadata": {},
   "outputs": [],
   "source": []
  },
  {
   "cell_type": "markdown",
   "id": "8b81fdbb",
   "metadata": {},
   "source": []
  },
  {
   "cell_type": "code",
   "execution_count": null,
   "id": "1cbc4a5d",
   "metadata": {},
   "outputs": [],
   "source": []
  },
  {
   "cell_type": "markdown",
   "id": "84bf0c04",
   "metadata": {},
   "source": []
  },
  {
   "cell_type": "code",
   "execution_count": null,
   "id": "b2b26420",
   "metadata": {},
   "outputs": [],
   "source": []
  },
  {
   "cell_type": "markdown",
   "id": "6eedac82",
   "metadata": {},
   "source": []
  },
  {
   "cell_type": "code",
   "execution_count": null,
   "id": "ac05c70f",
   "metadata": {},
   "outputs": [],
   "source": []
  },
  {
   "cell_type": "markdown",
   "id": "e9a6aac3",
   "metadata": {},
   "source": []
  },
  {
   "cell_type": "code",
   "execution_count": null,
   "id": "435f740a",
   "metadata": {},
   "outputs": [],
   "source": []
  },
  {
   "cell_type": "markdown",
   "id": "dc6dce34",
   "metadata": {},
   "source": []
  },
  {
   "cell_type": "code",
   "execution_count": null,
   "id": "238c9b87",
   "metadata": {},
   "outputs": [],
   "source": []
  },
  {
   "cell_type": "markdown",
   "id": "6992ee1a",
   "metadata": {},
   "source": []
  },
  {
   "cell_type": "code",
   "execution_count": null,
   "id": "60c8aba2",
   "metadata": {},
   "outputs": [],
   "source": []
  },
  {
   "cell_type": "markdown",
   "id": "173ad77d",
   "metadata": {},
   "source": []
  },
  {
   "cell_type": "markdown",
   "id": "e7c1bb23",
   "metadata": {},
   "source": [
    "### Cleaning the Column Names"
   ]
  },
  {
   "cell_type": "markdown",
   "id": "2324642e",
   "metadata": {},
   "source": [
    "Listing the column names:"
   ]
  },
  {
   "cell_type": "code",
   "execution_count": null,
   "id": "fae3c017",
   "metadata": {},
   "outputs": [],
   "source": [
    "autos.columns"
   ]
  },
  {
   "cell_type": "markdown",
   "id": "9761930e",
   "metadata": {},
   "source": [
    "Creating a map and renaming the columns:"
   ]
  },
  {
   "cell_type": "code",
   "execution_count": null,
   "id": "0e653685",
   "metadata": {},
   "outputs": [],
   "source": [
    "mapping_dict = {\n",
    "    \"dateCrawled\":\"date_crawled\",\n",
    "    \"offerType\":\"offer_type\",\n",
    "    \"vehicleType\":\"vehicle_type\",\n",
    "    \"yearOfRegistration\":\"registration_year\",\n",
    "    \"powerPS\":\"power_ps\",\n",
    "    \"monthOfRegistration\":\"registration_month\",\n",
    "    \"fuelType\":\"fuel_type\",\n",
    "    \"notRepairedDamage\":\"unrepaired_damage\",\n",
    "    \"dateCreated\":\"ad_created\",\n",
    "    \"nrOfPictures\":\"number_of_pictures\",\n",
    "    \"postalCode\":\"postal_code\",\n",
    "    \"lastSeen\":\"last_seen\"}\n",
    "\n",
    "## renaming the columns using the mapping dictionary to find the original name and replace it with the new name\n",
    "autos.rename(columns = mapping_dict, inplace=True)\n",
    "autos.columns\n",
    "\n",
    "## autos.columns = autos.columns.str.lower() could also be used to just make them all lowercase"
   ]
  },
  {
   "cell_type": "markdown",
   "id": "2263ba9a",
   "metadata": {},
   "source": [
    "Describing the columns:"
   ]
  },
  {
   "cell_type": "code",
   "execution_count": null,
   "id": "0e06dc8f",
   "metadata": {},
   "outputs": [],
   "source": [
    "autos.describe(include='all')\n",
    "## include='all' will include columns that are categorical"
   ]
  },
  {
   "cell_type": "markdown",
   "id": "6cad138f",
   "metadata": {},
   "source": [
    "### Converting Columns to Numeric"
   ]
  },
  {
   "cell_type": "markdown",
   "id": "9f119313",
   "metadata": {},
   "source": [
    "The price and odometer columns are object datatypes can be converted to int datatypes to be analysed."
   ]
  },
  {
   "cell_type": "markdown",
   "id": "c5bc8374",
   "metadata": {},
   "source": [
    "Converting the odometer column:"
   ]
  },
  {
   "cell_type": "code",
   "execution_count": null,
   "id": "2382e741",
   "metadata": {},
   "outputs": [],
   "source": [
    "## changing the column name\n",
    "autos.rename({\"odometer\":\"odometer_km\"}, axis=1, inplace=True)\n",
    "\n",
    "## removing string elements from values\n",
    "autos[\"odometer_km\"] = (autos[\"odometer_km\"]\n",
    "                            .str.replace(\",\",\"\")\n",
    "                            .str.replace(\"km\",\"\")\n",
    "                            .astype(int)\n",
    "                       )"
   ]
  },
  {
   "cell_type": "markdown",
   "id": "e015d00c",
   "metadata": {},
   "source": [
    "Checking values:"
   ]
  },
  {
   "cell_type": "code",
   "execution_count": null,
   "id": "4730bfa2",
   "metadata": {},
   "outputs": [],
   "source": [
    "autos.columns\n",
    "autos[\"odometer_km\"].value_counts()"
   ]
  },
  {
   "cell_type": "markdown",
   "id": "bf3fe725",
   "metadata": {},
   "source": [
    "Converting the price column:"
   ]
  },
  {
   "cell_type": "code",
   "execution_count": null,
   "id": "b1e2a181",
   "metadata": {},
   "outputs": [],
   "source": [
    "## removing string elements from values\n",
    "autos[\"price\"] = (autos[\"price\"]\n",
    "                            .str.replace(\",\",\"\")\n",
    "                            .str.replace(\"$\",\"\")\n",
    "                            .astype(int)\n",
    "                       )"
   ]
  },
  {
   "cell_type": "markdown",
   "id": "9d4a5a28",
   "metadata": {},
   "source": [
    "Checking values:"
   ]
  },
  {
   "cell_type": "code",
   "execution_count": null,
   "id": "7ba425be",
   "metadata": {},
   "outputs": [],
   "source": [
    "autos[\"price\"].value_counts()"
   ]
  },
  {
   "cell_type": "markdown",
   "id": "bf0d62dc",
   "metadata": {},
   "source": [
    "Now that these are datatype int, we should use describe to see the statistics of them:"
   ]
  },
  {
   "cell_type": "code",
   "execution_count": null,
   "id": "b50b70a3",
   "metadata": {
    "scrolled": false
   },
   "outputs": [],
   "source": [
    "autos[\"price\"].describe()"
   ]
  },
  {
   "cell_type": "markdown",
   "id": "be414549",
   "metadata": {},
   "source": [
    "Changing the float_format to not show scientific notation:"
   ]
  },
  {
   "cell_type": "code",
   "execution_count": null,
   "id": "569f640e",
   "metadata": {},
   "outputs": [],
   "source": [
    "pd.options.display.float_format = '{:.2f}'.format\n",
    "autos[\"price\"].describe()"
   ]
  },
  {
   "cell_type": "markdown",
   "id": "66db00bc",
   "metadata": {},
   "source": [
    "Strangely, there is a max price of 99999999 and a min price of 0."
   ]
  },
  {
   "cell_type": "code",
   "execution_count": null,
   "id": "e4b56454",
   "metadata": {},
   "outputs": [],
   "source": [
    "autos_prices = autos.sort_values(\"price\", ascending=False)\n",
    "autos_prices.head(20)"
   ]
  },
  {
   "cell_type": "markdown",
   "id": "ac5a74e3",
   "metadata": {},
   "source": [
    "The listings with a price from 999990 and up and above will be removed because they do not appear to represent true values of the models. Listings with a value of 0 will also be removed."
   ]
  },
  {
   "cell_type": "code",
   "execution_count": null,
   "id": "c9a0cf5d",
   "metadata": {
    "scrolled": true
   },
   "outputs": [],
   "source": [
    "price_bool = autos[\"price\"] < 999990\n",
    "autos = autos[price_bool]\n",
    "autos_prices = autos.sort_values(\"price\", ascending=False)\n",
    "autos_prices.head(10)\n",
    "autos.shape"
   ]
  },
  {
   "cell_type": "markdown",
   "id": "24ba0a3d",
   "metadata": {},
   "source": [
    "These 14 rows have been removed."
   ]
  },
  {
   "cell_type": "code",
   "execution_count": null,
   "id": "eb4a54e0",
   "metadata": {},
   "outputs": [],
   "source": [
    "price_bool = autos[\"price\"] > 0\n",
    "autos = autos[price_bool]\n",
    "autos_prices = autos.sort_values(\"price\", ascending=True)\n",
    "autos_prices.head(10)\n",
    "autos.shape"
   ]
  },
  {
   "cell_type": "markdown",
   "id": "4668969a",
   "metadata": {},
   "source": [
    "These 1421 rows have been removed and there are 48565 listings remaining."
   ]
  },
  {
   "cell_type": "markdown",
   "id": "dfc19b43",
   "metadata": {},
   "source": [
    "### Exploring the Date Columns"
   ]
  },
  {
   "cell_type": "markdown",
   "id": "219bb3bb",
   "metadata": {},
   "source": [
    "The following columns include date/time:\n",
    "- date_crawled\n",
    "- registration_year\n",
    "- registration_month\n",
    "- ad_created\n",
    "- last_seen"
   ]
  },
  {
   "cell_type": "markdown",
   "id": "185389cf",
   "metadata": {},
   "source": [
    "Exploring the date_crawled column:"
   ]
  },
  {
   "cell_type": "code",
   "execution_count": null,
   "id": "3ecf7f18",
   "metadata": {},
   "outputs": [],
   "source": [
    "autos[\"date_crawled\"].min()"
   ]
  },
  {
   "cell_type": "code",
   "execution_count": null,
   "id": "adcd0736",
   "metadata": {},
   "outputs": [],
   "source": [
    "autos[\"date_crawled\"].max()"
   ]
  },
  {
   "cell_type": "markdown",
   "id": "0752ca24",
   "metadata": {},
   "source": [
    "The data appears to have been scraped over a 1-month period from March 5th until April 7th."
   ]
  },
  {
   "cell_type": "markdown",
   "id": "77b431e5",
   "metadata": {},
   "source": [
    "Converting the format to datetime:"
   ]
  },
  {
   "cell_type": "code",
   "execution_count": null,
   "id": "d54bd3f6",
   "metadata": {},
   "outputs": [],
   "source": [
    "autos[\"date_crawled\"] = pd.to_datetime(autos[\"date_crawled\"],format=\"%Y-%m-%d %H:%M:%S\")\n",
    "autos[\"date_crawled\"]"
   ]
  },
  {
   "cell_type": "markdown",
   "id": "f4155bdf",
   "metadata": {},
   "source": [
    "Creating a column of just the date the ad was scraped:"
   ]
  },
  {
   "cell_type": "code",
   "execution_count": null,
   "id": "ec91c227",
   "metadata": {
    "scrolled": true
   },
   "outputs": [],
   "source": [
    "autos[\"date_crawled_date\"] = autos[\"date_crawled\"].dt.date.astype(\"datetime64[ns]\")\n",
    "autos[\"date_crawled_date\"]"
   ]
  },
  {
   "cell_type": "markdown",
   "id": "35b387dd",
   "metadata": {},
   "source": [
    "Sorting the crawl date chronologically and getting a count of ads scraped per day:"
   ]
  },
  {
   "cell_type": "code",
   "execution_count": null,
   "id": "003a88ed",
   "metadata": {},
   "outputs": [],
   "source": [
    "autos[\"date_crawled_date\"].sort_values(ascending=True).value_counts(sort=False)"
   ]
  },
  {
   "cell_type": "markdown",
   "id": "c3341ad4",
   "metadata": {},
   "source": [
    "There appears to have been consistent scraping until April 5th when fewer ads were scraped."
   ]
  },
  {
   "cell_type": "markdown",
   "id": "60c863ae",
   "metadata": {},
   "source": [
    "### Removing Rows with Erroneous Registration Dates"
   ]
  },
  {
   "cell_type": "markdown",
   "id": "7d8b0276",
   "metadata": {},
   "source": [
    "Exploring the registration_year column:"
   ]
  },
  {
   "cell_type": "code",
   "execution_count": null,
   "id": "8669db38",
   "metadata": {
    "scrolled": true
   },
   "outputs": [],
   "source": [
    "autos[\"registration_year\"].describe()"
   ]
  },
  {
   "cell_type": "markdown",
   "id": "6aa15cc6",
   "metadata": {},
   "source": [
    "Of the remaining ads, there are some irregularities. There are ads listing cars from the years 1000 and 9999. We need to determine how many ads exist with incorrect registration years."
   ]
  },
  {
   "cell_type": "code",
   "execution_count": null,
   "id": "7ecb5c07",
   "metadata": {},
   "outputs": [],
   "source": [
    "autos_year_outliers_low = autos[autos[\"registration_year\"] < 1900]\n",
    "autos_year_outliers_low.shape"
   ]
  },
  {
   "cell_type": "markdown",
   "id": "b744d5eb",
   "metadata": {},
   "source": [
    "These 5 ads with registration dates before 1900 can be removed:"
   ]
  },
  {
   "cell_type": "code",
   "execution_count": null,
   "id": "c43c4f60",
   "metadata": {},
   "outputs": [],
   "source": [
    "## replace the autos df with a version of autos that has been filtered by boolean values where TRUE is if the registration_year is above 1900\n",
    "autos = autos[autos[\"registration_year\"] > 1899]\n",
    "autos[\"registration_year\"].sort_values(ascending=True).head()"
   ]
  },
  {
   "cell_type": "code",
   "execution_count": null,
   "id": "7814baa0",
   "metadata": {},
   "outputs": [],
   "source": [
    "autos.shape"
   ]
  },
  {
   "cell_type": "markdown",
   "id": "61b57a8f",
   "metadata": {},
   "source": [
    "For years beyond 2016:"
   ]
  },
  {
   "cell_type": "code",
   "execution_count": null,
   "id": "5a72cb23",
   "metadata": {
    "scrolled": true
   },
   "outputs": [],
   "source": [
    "autos_year_outliers_high = autos[autos[\"registration_year\"] > 2016]\n",
    "autos_year_outliers_high.head()"
   ]
  },
  {
   "cell_type": "code",
   "execution_count": null,
   "id": "abe1b65d",
   "metadata": {},
   "outputs": [],
   "source": [
    "autos_year_outliers_high.shape"
   ]
  },
  {
   "cell_type": "markdown",
   "id": "6976db14",
   "metadata": {},
   "source": [
    "These 1879 rows can be removed as the registration_year should not be beyond April 2016:"
   ]
  },
  {
   "cell_type": "code",
   "execution_count": null,
   "id": "4d654fd5",
   "metadata": {},
   "outputs": [],
   "source": [
    "## replace the autos df with a version of autos that has been filtered by boolean values where TRUE is if the registration_year is before 2017\n",
    "autos = autos[autos[\"registration_year\"] < 2017]\n",
    "autos[\"registration_year\"].sort_values(ascending=False).head()"
   ]
  },
  {
   "cell_type": "markdown",
   "id": "3a3c07e3",
   "metadata": {},
   "source": [
    "We need to double-check that the 2016 registration_month values for 2016 are not beyond April."
   ]
  },
  {
   "cell_type": "code",
   "execution_count": null,
   "id": "b09840c8",
   "metadata": {
    "scrolled": true
   },
   "outputs": [],
   "source": [
    "autos_2016 = autos.loc[(autos[\"registration_year\"] == 2016) & (autos[\"registration_month\"] > 4)]\n",
    "autos_2016.head(5)"
   ]
  },
  {
   "cell_type": "code",
   "execution_count": null,
   "id": "5580a6e9",
   "metadata": {},
   "outputs": [],
   "source": [
    "autos_2016.shape"
   ]
  },
  {
   "cell_type": "markdown",
   "id": "03659e98",
   "metadata": {},
   "source": [
    "These 618 rows can also be removed:"
   ]
  },
  {
   "cell_type": "code",
   "execution_count": null,
   "id": "7f971404",
   "metadata": {},
   "outputs": [],
   "source": [
    "autos_bool = (autos[\"registration_year\"] == 2016) & (autos[\"registration_month\"] > 4)\n",
    "autos_bool.value_counts()"
   ]
  },
  {
   "cell_type": "code",
   "execution_count": null,
   "id": "f96973d2",
   "metadata": {},
   "outputs": [],
   "source": [
    "autos = autos[~autos_bool]"
   ]
  },
  {
   "cell_type": "markdown",
   "id": "d83b7bec",
   "metadata": {},
   "source": [
    "Double checking that 46063 rows exist (48565 remainig - 5(<1900) - 1879(>2016) - 618(>April 2016))"
   ]
  },
  {
   "cell_type": "code",
   "execution_count": null,
   "id": "44fe5300",
   "metadata": {},
   "outputs": [],
   "source": [
    "autos.shape"
   ]
  },
  {
   "cell_type": "markdown",
   "id": "ecd06e7e",
   "metadata": {},
   "source": [
    "All ads listed now only include cars registered from 1900 to 2016 April. However, we can take this one step further. The registration date should always be earlier than the ad listing.\n",
    "\n",
    "Earlier, we saw that many ads had a registration_month of 0. This likely means that no registration month was included in the ad. These will be updated to 1 so that a new datetime column for registration date works."
   ]
  },
  {
   "cell_type": "code",
   "execution_count": null,
   "id": "e0af3c53",
   "metadata": {},
   "outputs": [],
   "source": [
    "autos[\"registration_month\"].value_counts()"
   ]
  },
  {
   "cell_type": "code",
   "execution_count": null,
   "id": "b10914f6",
   "metadata": {
    "scrolled": true
   },
   "outputs": [],
   "source": [
    "month_bool = autos[\"registration_month\"] == 0\n",
    "autos.loc[month_bool,\"registration_month\"] = 1\n",
    "autos[\"registration_month\"].value_counts()"
   ]
  },
  {
   "cell_type": "markdown",
   "id": "810551b7",
   "metadata": {},
   "source": [
    "Converting registration details to a datetime column:"
   ]
  },
  {
   "cell_type": "code",
   "execution_count": null,
   "id": "21f1472f",
   "metadata": {},
   "outputs": [],
   "source": [
    "## Creating a registration_datetime column that combined the registration year and month.\n",
    "autos[\"registration_datetime\"] = autos[\"registration_year\"].astype(str) + \"-\" + autos[\"registration_month\"].astype(str)\n",
    "\n",
    "## Converting this new column to a datetime format\n",
    "autos[\"registration_datetime\"] = pd.to_datetime(autos[\"registration_datetime\"], format=\"%Y-%m\")\n",
    "\n",
    "## Viewing the new column\n",
    "autos[\"registration_datetime\"].head()"
   ]
  },
  {
   "cell_type": "markdown",
   "id": "c6c20a7f",
   "metadata": {},
   "source": [
    "Converting ad_created details to a datetime column:"
   ]
  },
  {
   "cell_type": "code",
   "execution_count": null,
   "id": "d2acc49e",
   "metadata": {},
   "outputs": [],
   "source": [
    "autos[\"ad_created\"] = pd.to_datetime(autos[\"ad_created\"], format=\"%Y-%m-%d %H:%M:%S\")\n",
    "\n",
    "## Viewing the new column\n",
    "autos[\"ad_created\"]"
   ]
  },
  {
   "cell_type": "markdown",
   "id": "c49d56bf",
   "metadata": {},
   "source": [
    "Detemining how many ads were registered before or on the month they were listed vs. registered after."
   ]
  },
  {
   "cell_type": "code",
   "execution_count": null,
   "id": "d00f743c",
   "metadata": {
    "scrolled": true
   },
   "outputs": [],
   "source": [
    "created_bool = autos[\"registration_datetime\"] <= autos[\"ad_created\"]\n",
    "created_bool.value_counts()"
   ]
  },
  {
   "cell_type": "markdown",
   "id": "44ac1970",
   "metadata": {},
   "source": [
    "It appears that 64 ads have registration dates after the ad was created.\n",
    "Viewing examples:"
   ]
  },
  {
   "cell_type": "code",
   "execution_count": null,
   "id": "904c7310",
   "metadata": {},
   "outputs": [],
   "source": [
    "autos_conflicting_dates = autos[autos[\"registration_datetime\"] > autos[\"ad_created\"]]\n",
    "autos_conflicting_dates"
   ]
  },
  {
   "cell_type": "markdown",
   "id": "55f2825a",
   "metadata": {},
   "source": [
    "Removing these rows:"
   ]
  },
  {
   "cell_type": "code",
   "execution_count": null,
   "id": "056d6662",
   "metadata": {},
   "outputs": [],
   "source": [
    "autos = autos[autos[\"registration_datetime\"] <= autos[\"ad_created\"]]\n",
    "autos.shape"
   ]
  },
  {
   "cell_type": "markdown",
   "id": "c7f05b5a",
   "metadata": {},
   "source": [
    "All ads remaining should now:\n",
    "- be registered before the ad creation date\n",
    "- be registered from 1900\n",
    "- be listed for more than 0 dollars\n",
    "- be listed for less than 999990 dollars"
   ]
  },
  {
   "cell_type": "markdown",
   "id": "44eafff2",
   "metadata": {},
   "source": [
    "### Exploring Price by Brand"
   ]
  },
  {
   "cell_type": "markdown",
   "id": "39a2fad4",
   "metadata": {},
   "source": [
    "Creating a list of brands in the dataset:"
   ]
  },
  {
   "cell_type": "code",
   "execution_count": null,
   "id": "b316e102",
   "metadata": {
    "scrolled": true
   },
   "outputs": [],
   "source": [
    "list_of_brands = autos[\"brand\"].unique()\n",
    "list_of_brands"
   ]
  },
  {
   "cell_type": "markdown",
   "id": "c4da55d9",
   "metadata": {},
   "source": [
    "Creating a dictionary of brands and how frequently they have been listed:"
   ]
  },
  {
   "cell_type": "code",
   "execution_count": null,
   "id": "b43cdfdc",
   "metadata": {},
   "outputs": [],
   "source": [
    "brand_frequencies = {}\n",
    "for brand in list_of_brands:\n",
    "    brand_frequencies[brand] = autos[autos[\"brand\"] == brand].shape[0]\n",
    "    \n",
    "pd.DataFrame(pd.Series(brand_frequencies),columns=[\"Frequency\"]).sort_values(\"Frequency\",ascending=False).head()"
   ]
  },
  {
   "cell_type": "markdown",
   "id": "c8210263",
   "metadata": {},
   "source": [
    "Determining the proportion of ads for each brand:"
   ]
  },
  {
   "cell_type": "code",
   "execution_count": null,
   "id": "90d5d9b0",
   "metadata": {},
   "outputs": [],
   "source": [
    "brand_proportions = {}\n",
    "\n",
    "for brand in list_of_brands:\n",
    "    brand_proportions[brand] = autos[autos[\"brand\"] == brand].shape[0] / autos[\"brand\"].shape[0] * 100\n",
    "\n",
    "pd.DataFrame(pd.Series(brand_proportions),columns=[\"Proportion\"]).sort_values(\"Proportion\",ascending=False).head()"
   ]
  },
  {
   "cell_type": "markdown",
   "id": "f417a4ca",
   "metadata": {},
   "source": [
    "Volkswagon is the brand of car with the most number of ads, and almost twice that of the second most frequent brand, BMW."
   ]
  },
  {
   "cell_type": "markdown",
   "id": "d8d8a23b",
   "metadata": {},
   "source": [
    "Determining the mean value of cars in ads for each brand:"
   ]
  },
  {
   "cell_type": "code",
   "execution_count": null,
   "id": "2f52a9de",
   "metadata": {},
   "outputs": [],
   "source": [
    "total_value_by_brand = {}\n",
    "average_value_by_brand = {}\n",
    "for brand in list_of_brands:\n",
    "    total_value_by_brand[brand] = autos.loc[autos[\"brand\"] == brand,\"price\"].sum()\n",
    "    average_value_by_brand[brand] = autos.loc[autos[\"brand\"] == brand,\"price\"].mean()\n",
    "   \n",
    "pd.DataFrame(pd.Series(average_value_by_brand),columns=[\"Average Price\"]).sort_values(\"Average Price\",ascending=False).head()"
   ]
  },
  {
   "cell_type": "markdown",
   "id": "5deb5053",
   "metadata": {},
   "source": [
    "Ads for Porsche models have a higher value, on average."
   ]
  },
  {
   "cell_type": "markdown",
   "id": "fa033179",
   "metadata": {},
   "source": [
    "### Exploring Mileage by Brand"
   ]
  },
  {
   "cell_type": "markdown",
   "id": "243cd35b",
   "metadata": {},
   "source": []
  },
  {
   "cell_type": "code",
   "execution_count": null,
   "id": "956973ef",
   "metadata": {},
   "outputs": [],
   "source": [
    "total_mileage_by_brand = {}\n",
    "average_mileage_by_brand = {}\n",
    "\n",
    "for brand in list_of_brands:\n",
    "    total_mileage_by_brand[brand] = autos.loc[autos[\"brand\"] == brand,\"odometer_km\"].sum()\n",
    "    average_mileage_by_brand[brand] = autos.loc[autos[\"brand\"] == brand,\"odometer_km\"].mean()\n",
    "    \n",
    "\n",
    "pd.DataFrame(pd.Series(total_mileage_by_brand),columns=[\"Total Mileage\"]).sort_values(\"Total Mileage\",ascending=False).head()"
   ]
  },
  {
   "cell_type": "code",
   "execution_count": null,
   "id": "5377e17e",
   "metadata": {
    "scrolled": true
   },
   "outputs": [],
   "source": [
    "pd.DataFrame(pd.Series(average_mileage_by_brand),columns=[\"Average Mileage\"]).sort_values(\"Average Mileage\",ascending=False).head()"
   ]
  },
  {
   "cell_type": "markdown",
   "id": "6111b97f",
   "metadata": {},
   "source": [
    "Combining all this information into one dataframe:"
   ]
  },
  {
   "cell_type": "code",
   "execution_count": null,
   "id": "4ebb8ab1",
   "metadata": {},
   "outputs": [],
   "source": [
    "brand_info = pd.DataFrame(list_of_brands, columns=[\"brand\"])\n",
    "\n",
    "brand_info[\"frequency\"] = brand_info[\"brand\"].map(brand_frequencies)\n",
    "brand_info[\"proportion\"] = brand_info[\"brand\"].map(brand_proportions)\n",
    "brand_info[\"total_value\"] = brand_info[\"brand\"].map(total_value_by_brand)\n",
    "brand_info[\"average_price\"] = brand_info[\"brand\"].map(average_value_by_brand)\n",
    "brand_info[\"total_mileage\"] = brand_info[\"brand\"].map(total_mileage_by_brand)\n",
    "brand_info[\"average_mileage\"] = brand_info[\"brand\"].map(average_mileage_by_brand)\n",
    "brand_info[\"mileage_per_dollar\"] = brand_info[\"total_mileage\"] / brand_info[\"total_value\"]\n",
    "\n",
    "brand_info.sort_values(\"mileage_per_dollar\", ascending=False)"
   ]
  },
  {
   "cell_type": "markdown",
   "id": "76cffe9f",
   "metadata": {},
   "source": [
    "Daewoo, Rover and Daihatsu all have much higher mileage relative to their cost."
   ]
  },
  {
   "cell_type": "code",
   "execution_count": null,
   "id": "963736b0",
   "metadata": {},
   "outputs": [],
   "source": [
    "autos[\"odometer_km\"].mean()"
   ]
  },
  {
   "cell_type": "markdown",
   "id": "eebbe4ab",
   "metadata": {},
   "source": [
    "Cars advertised have 123,428 kms on their odometer, on average."
   ]
  },
  {
   "cell_type": "markdown",
   "id": "0162d096",
   "metadata": {},
   "source": [
    "### Determining Which Brands Most Often Have Unrepaired Damage"
   ]
  },
  {
   "cell_type": "code",
   "execution_count": null,
   "id": "4994d084",
   "metadata": {},
   "outputs": [],
   "source": []
  },
  {
   "cell_type": "markdown",
   "id": "9a26d06b",
   "metadata": {},
   "source": []
  },
  {
   "cell_type": "code",
   "execution_count": null,
   "id": "f2b418d3",
   "metadata": {},
   "outputs": [],
   "source": []
  }
 ],
 "metadata": {
  "kernelspec": {
   "display_name": "Python 3 (ipykernel)",
   "language": "python",
   "name": "python3"
  },
  "language_info": {
   "codemirror_mode": {
    "name": "ipython",
    "version": 3
   },
   "file_extension": ".py",
   "mimetype": "text/x-python",
   "name": "python",
   "nbconvert_exporter": "python",
   "pygments_lexer": "ipython3",
   "version": "3.10.13"
  }
 },
 "nbformat": 4,
 "nbformat_minor": 5
}
